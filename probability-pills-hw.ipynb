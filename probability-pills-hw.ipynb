{
 "cells": [
  {
   "cell_type": "markdown",
   "metadata": {
    "button": false,
    "new_sheet": false,
    "run_control": {
     "read_only": false
    }
   },
   "source": [
    "<div style=\"text-align: right\">CSCI E-7 Introduction to Python Programming for Life Sciences</div>\n",
    "<div style=\"text-align: right\">Dino Konstantopoulos, 3 February 2019 assigned Homework, which is due 10 February</div>\n",
    "\n",
    "\n",
    "# Homework\n",
    "\n",
    "All your results should be evaluated in cells in this notebook. Please upload your completed notebook to Canvas. All computation cells should be accompanied by at least one markdown cell clearly explaining your logic. Correct computation cells with no associated reasoning markdown will not get you a top grade.\n",
    "\n",
    "*All your solutions should be in the form of python **list** or **set comprehensions***. No loops!\n",
    "\n",
    "All results should be given in terms of python `Fraction`s, no decimal numbers please! Please use the prbability function we defined in class:\n",
    "```python\n",
    "from fractions import Fraction\n",
    "def p(event, space): \n",
    "    \"The probability of an event, given a sample space of equiprobable outcomes.\"\n",
    "    return Fraction(len(event & space), \n",
    "                    len(space))\n",
    "```\n",
    "\n",
    "I give a lot of code hints in markdown cells below. Cut and paste judiciously."
   ]
  },
  {
   "cell_type": "code",
   "execution_count": 1,
   "metadata": {},
   "outputs": [],
   "source": [
    "from fractions import Fraction\n",
    "def p(event, space): \n",
    "    \"The probability of an event, given a sample space of equiprobable outcomes.\"\n",
    "    return Fraction(len(event & space), \n",
    "                    len(space))"
   ]
  },
  {
   "cell_type": "markdown",
   "metadata": {
    "button": false,
    "new_sheet": false,
    "run_control": {
     "read_only": false
    }
   },
   "source": [
    "# Dangerous pill combinations\n",
    "\n",
    "<br />\n",
    "<center>\n",
    "    <img src=\"ipynb.images/pills.jpg\" width=600 />\n",
    "</center>\n",
    "\n",
    "The danger of mixing drugs, supplements, and/or alcohol is very real. At least 1.5 million people in the U.S. are harmed annually by medication errors, according to a report issued in July 2006 by the Institute of Medicine.\n",
    "\n",
    "Reducing your risk, experts agree, is often a matter of using common sense and asking your doctor or pharmacist the right questions. \n",
    "\n",
    "For example, the blood thinner Coumadin, taken by people with blood clots or with heart valve conditions, shouldn't be mixed with ginseng nor aspirin. \"It's an additive effect\", experts agree, of the Coumadin-aspirin/ginseng combination. \"It increases your chance of internal bleeding or, if you get a cut on your finger, the blood won't clot as quickly.\" Indeed, there are many drugs and supplements that are off-limits when you are taking [Coumadin](https://www.webmd.com/drugs/2/drug-4069/coumadin-oral/details).\n",
    "\n",
    "> A very strange pill box indeed contains 23 pills: 8 Coumadin pills, 6 aspirin pills, and 9 ginseng pills. It comes into the possesion of a patient who thinks it contains just Coumadin pills. The patient selects six pills at random from the box (each possible selection is equally likely). What is the probability of each of these possible outcomes:\n",
    "\n",
    "> 1. All pills are Coumadin pills\n",
    "2. A deadly comination of 3 Coumadin pills, 2 aspirin pills, and 1 ginseng pill\n",
    "3. A dangerous but non-fatal combination that contains exactly 4 Coumdadin pills\n",
    "\n",
    "So, outcome = set of 6 pills, sample space = set of all possible 6 pill combinations. \n",
    "\n",
    "We'll mark our pills `'C1'` through `'C8'`, `'A1'` through `'A6'`, and `'G1'` through `'G9'`, `C` for Coumadin, `A` for Aspirin, and `G` for Ginseng.\n",
    "\n",
    "To note:\n",
    "- An outcome is a *set* of pills, where order doesn't matter, not a *sequence*, where order matters. When order **matters**, the set of outcomes is called all **permutations**. When order **does not matter**, the set of outcomes is called all **combinations**.\n",
    "\n",
    "The number of *combinations* of pills is the number of *permutations* divided by `c!` (c [factorial](https://en.wikipedia.org/wiki/Factorial)), where *c* is the number of pills. So there are less combinations and more permutations possible. If I want to choose 2 Coumadin pills from the 8 available, there are 8 ways to choose a first Coumadin pill and 7 ways to choose a second (because the first one has been picked and not available in the sample space anymore), and therefore 8 &times; 7 = 56 permutations of two Coumadin pills. But there are only 56 / 2 = 28 combinations, because `(C1, C2)` is the same combination as `(C2, C1)`.\n",
    "\n",
    "We'll start by defining the contents of the pill box, and we'll use a python `set` (unordered collection with no duplicate elements), since we don't expect them to change. Since we're passing in strings, the `+` operator will concatenate strings together.\n",
    "\n",
    "```python\n",
    "def cross(A, B):\n",
    "    \"\"\"The set of ways of concatenating one item from collection A with one from B.\"\"\"\n",
    "    return {a + b \n",
    "            for a ... for b ...}  # fill in the ...\n",
    "\n",
    "pillbox = cross('C', '12345678') | cross('A', ...) | cross('G', ...)\n",
    "pillbox\n",
    "```"
   ]
  },
  {
   "cell_type": "code",
   "execution_count": 4,
   "metadata": {
    "button": false,
    "new_sheet": false,
    "run_control": {
     "read_only": false
    }
   },
   "outputs": [
    {
     "data": {
      "text/plain": [
       "{'A1',\n",
       " 'A2',\n",
       " 'A3',\n",
       " 'A4',\n",
       " 'A5',\n",
       " 'A6',\n",
       " 'C1',\n",
       " 'C2',\n",
       " 'C3',\n",
       " 'C4',\n",
       " 'C5',\n",
       " 'C6',\n",
       " 'C7',\n",
       " 'C8',\n",
       " 'G1',\n",
       " 'G2',\n",
       " 'G3',\n",
       " 'G4',\n",
       " 'G5',\n",
       " 'G6',\n",
       " 'G7',\n",
       " 'G8',\n",
       " 'G9'}"
      ]
     },
     "execution_count": 4,
     "metadata": {},
     "output_type": "execute_result"
    }
   ],
   "source": [
    "def cross(A, B):\n",
    "    \"\"\"The set of ways of concatenating one item from collection A with one from B.\"\"\"\n",
    "    return {a + b \n",
    "            for a in A for b in B}\n",
    "\n",
    "pillbox = cross('C', '12345678') | cross('A', '123456') | cross('G', '123456789')\n",
    "pillbox"
   ]
  },
  {
   "cell_type": "markdown",
   "metadata": {
    "button": false,
    "new_sheet": false,
    "run_control": {
     "read_only": false
    }
   },
   "source": [
    "Now let's define the sample space, `U6`, as the set of all 6-pill combinations. Know what.. physicists define all forces in nature in terms of similar sample spaces where the number of samples is the number of symmetries in the behavior of the objects that the forces act upon. Check it out [here](https://arxiv.org/pdf/hep-th/9712154.pdf) for a good introduction to symmetry groups in physics). Lot of that research happened right here, MIT and Harvard..\n",
    "\n",
    "We will use the python `itertools.combinations` package to generate the combinations, and then join each combination into a string:\n",
    "\n",
    "```python\n",
    "import itertools\n",
    "\n",
    "def combinations(items, n):\n",
    "    \"All combinations of n items; each combination as a concatenated str.\"\n",
    "    return {' '.join(combo) \n",
    "            for combo in itertools.combinations(items, n)}\n",
    "\n",
    "U6 = combinations(pillbox, 6)\n",
    "len(U6)\n",
    "```"
   ]
  },
  {
   "cell_type": "code",
   "execution_count": 11,
   "metadata": {
    "button": false,
    "new_sheet": false,
    "run_control": {
     "read_only": false
    }
   },
   "outputs": [
    {
     "data": {
      "text/plain": [
       "100947"
      ]
     },
     "execution_count": 11,
     "metadata": {},
     "output_type": "execute_result"
    }
   ],
   "source": [
    "import itertools\n",
    "\n",
    "def combinations(items, n):\n",
    "    \"All combinations of n items; each combination as a concatenated str.\"\n",
    "    return {' '.join(combo) \n",
    "            for combo in itertools.combinations(items, n)}\n",
    "\n",
    "U6 = combinations(pillbox, 6)\n",
    "len(U6)"
   ]
  },
  {
   "cell_type": "markdown",
   "metadata": {
    "button": false,
    "new_sheet": false,
    "run_control": {
     "read_only": false
    }
   },
   "source": [
    "You should find that there are 100,947 members in our pillbox sample space `U6`. To take a peek at 10 random 6-pill samples of them (you should always take a peek at datasets in Data Science. *Always*):\n",
    "\n",
    "```python\n",
    "import random\n",
    "random.sample(U6, 10)\n",
    "```"
   ]
  },
  {
   "cell_type": "code",
   "execution_count": 13,
   "metadata": {
    "button": false,
    "new_sheet": false,
    "run_control": {
     "read_only": false
    }
   },
   "outputs": [
    {
     "data": {
      "text/plain": [
       "['G6 G5 C4 A6 C6 C5',\n",
       " 'A3 A5 G9 G2 A2 C5',\n",
       " 'A3 C7 C8 C4 A6 A2',\n",
       " 'G6 G8 C8 G2 A2 C5',\n",
       " 'G6 A5 G8 C8 A6 C6',\n",
       " 'G7 G1 C2 C8 A6 C6',\n",
       " 'G8 C1 A6 C6 A2 C5',\n",
       " 'G6 C7 G8 A4 A6 G4',\n",
       " 'C3 C8 G2 A6 C6 A2',\n",
       " 'A3 G1 A5 G8 C4 G2']"
      ]
     },
     "execution_count": 13,
     "metadata": {},
     "output_type": "execute_result"
    }
   ],
   "source": [
    "import random\n",
    "random.sample(U6, 10)"
   ]
  },
  {
   "cell_type": "markdown",
   "metadata": {
    "button": false,
    "new_sheet": false,
    "run_control": {
     "read_only": false
    }
   },
   "source": [
    "We can pick any of 23 pills for the first item, any of 22 for the second, ..., and any of 18 for the sixth. But since we don't care about the ordering of the six pills, we divide the product by 6! (the number of possible combinations of 6 things) and thus:\n",
    "\n",
    "$$23 ~\\mbox{choose}~ 6 = \\frac{23 \\cdot 22 \\cdot 21 \\cdot 20 \\cdot 19 \\cdot 18}{6!} = 100947$$\n",
    "\n",
    "But since $23 \\cdot 22 \\cdot 21 \\cdot 20 \\cdot 19 \\cdot 18 = 23! \\;/\\; 17!$, we can write:\n",
    "\n",
    "$$n ~\\mbox{choose}~ c = \\frac{n!}{(n - c)! \\cdot c!}$$\n",
    "\n",
    "To translate that to code, use the following, and note that\n",
    "* Python has two division operators, a single slash `/` character for classic division and a double-slash `//` for *floor* division (rounds down to nearest whole number). Classic division means that if the operands are both integers, it will perform floor division, while for floating point numbers, it represents true division.\n",
    "\n",
    "```python\n",
    "from math import factorial\n",
    "\n",
    "def choose(n, c):\n",
    "    \"\"\"Number of ways to choose c items from a list of n items.\"\"\"\n",
    "    return factorial(n) // (factorial(n - c) * factorial(c))\n",
    "choose(23, 6)\n",
    "```\n"
   ]
  },
  {
   "cell_type": "code",
   "execution_count": 14,
   "metadata": {
    "button": false,
    "new_sheet": false,
    "run_control": {
     "read_only": false
    }
   },
   "outputs": [
    {
     "data": {
      "text/plain": [
       "100947"
      ]
     },
     "execution_count": 14,
     "metadata": {},
     "output_type": "execute_result"
    }
   ],
   "source": [
    "from math import factorial\n",
    "\n",
    "def choose(n, c):\n",
    "    \"\"\"Number of ways to choose c items from a list of n items.\"\"\"\n",
    "    return factorial(n) // (factorial(n - c) * factorial(c))\n",
    "choose(23, 6)\n"
   ]
  },
  {
   "cell_type": "markdown",
   "metadata": {
    "button": false,
    "new_sheet": false,
    "run_control": {
     "read_only": false
    }
   },
   "source": [
    "To note:\n",
    "* `count()` is the python function that returns the *cardinal* (a.k.a *length*) of a sequence (a.k.a. list/set/tuple/dict), filtered by an argument. True statement: ```'foobar'.count('o') == 2```. \n",
    "\n",
    "Now we're ready to answer the 4 problems: \n",
    "\n",
    "### Pilbox Problem 1: What's the probability of the benign pick of 6 Coumadin pills? \n",
    "\n",
    "Use a python set comprehension, then leverage the `p` function above.\n",
    "```python\n",
    "coumadin6 = {b for b ...}  # fill in the ...\n",
    "print(coumadin6)\n",
    "p(coumadin6, U6)\n",
    "```\n",
    "\n",
    "Go ahead, cut and paste below and replace `...` with the right answer. Then verify your answer by running the code below and ensuring that it's the number of ways of picking 6 pills from a list of 9 pills in an unordered fashion by leveraging the `choose` function referenced above:\n",
    "```python\n",
    "p(coumadin6, U6) == Fraction(choose(...)\n",
    "```"
   ]
  },
  {
   "cell_type": "code",
   "execution_count": 63,
   "metadata": {
    "button": false,
    "new_sheet": false,
    "run_control": {
     "read_only": false
    }
   },
   "outputs": [
    {
     "name": "stdout",
     "output_type": "stream",
     "text": [
      "{'C7 C2 C3 C8 C1 C6', 'C3 C8 C4 C1 C6 C5', 'C2 C3 C8 C4 C6 C5', 'C2 C3 C4 C1 C6 C5', 'C7 C2 C3 C4 C6 C5', 'C7 C3 C8 C4 C1 C6', 'C7 C2 C3 C4 C1 C6', 'C7 C2 C3 C8 C6 C5', 'C7 C2 C3 C8 C4 C6', 'C7 C2 C3 C8 C1 C5', 'C7 C2 C8 C4 C1 C5', 'C7 C8 C4 C1 C6 C5', 'C2 C8 C4 C1 C6 C5', 'C2 C3 C8 C1 C6 C5', 'C7 C2 C3 C1 C6 C5', 'C7 C2 C8 C1 C6 C5', 'C7 C2 C8 C4 C1 C6', 'C2 C3 C8 C4 C1 C6', 'C7 C2 C3 C8 C4 C1', 'C7 C3 C4 C1 C6 C5', 'C2 C3 C8 C4 C1 C5', 'C7 C3 C8 C1 C6 C5', 'C7 C2 C3 C4 C1 C5', 'C7 C3 C8 C4 C6 C5', 'C7 C2 C8 C4 C6 C5', 'C7 C2 C3 C8 C4 C5', 'C7 C3 C8 C4 C1 C5', 'C7 C2 C4 C1 C6 C5'}\n"
     ]
    },
    {
     "data": {
      "text/plain": [
       "Fraction(4, 14421)"
      ]
     },
     "execution_count": 63,
     "metadata": {},
     "output_type": "execute_result"
    }
   ],
   "source": [
    "coumadin6 = {b for b in U6 if 'A' not in b and 'G' not in b}\n",
    "print(coumadin6)\n",
    "p(coumadin6, U6)"
   ]
  },
  {
   "cell_type": "code",
   "execution_count": 67,
   "metadata": {},
   "outputs": [
    {
     "data": {
      "text/plain": [
       "True"
      ]
     },
     "execution_count": 67,
     "metadata": {},
     "output_type": "execute_result"
    }
   ],
   "source": [
    "len(coumadin6) == (Fraction(choose(8, 6)))"
   ]
  },
  {
   "cell_type": "markdown",
   "metadata": {
    "button": false,
    "new_sheet": false,
    "run_control": {
     "read_only": false
    }
   },
   "source": [
    "### Pillbox Problem 2: What is the probability of the *lethal* cocktail of exactly 3 Coumadin, 2 Aspirin, and 1 Ginseng pills?\n",
    "\n",
    "Use a python set comprehension, the evaluate a probability using the `p` function.\n",
    "```python\n",
    "c3a2g1 = {s for s ...}\n",
    "p(c3a2g1, U6)\n",
    "```\n",
    "\n",
    "\n",
    "Then verify that it's equal to the number of ways of picking 3 Coumadin out of 6, 2 Aspirin out of 8, and 1 Ginseng out of 9 by leveraging the `choose` function.\n",
    "\n",
    "You can also reason that there are 6 ways to pick the first Coumadin 5 ways to pick the second Coumadin, and 4 ways to pick the remaining Coumadin. Then 8 ways to pick the first Aspirin and 7 to pick the second. Then 9 ways to pick a Ginseng pill. But the order 'C1, C2, C3' should count as the same as 'C2, C3, C1' and all the other orderings; so divide by 3! to account for the permutations of Coumadin pills, by 2! to account for the permutations of Aspirin pills, and finally by the length of `U6` to get a probability."
   ]
  },
  {
   "cell_type": "code",
   "execution_count": 69,
   "metadata": {},
   "outputs": [
    {
     "data": {
      "text/plain": [
       "Fraction(360, 4807)"
      ]
     },
     "execution_count": 69,
     "metadata": {},
     "output_type": "execute_result"
    }
   ],
   "source": [
    "c3a2g1 = {s for s in U6 if s.count('A') == 2 and s.count('C') == 3 and s.count('G') == 1}\n",
    "p(c3a2g1, U6)"
   ]
  },
  {
   "cell_type": "code",
   "execution_count": 87,
   "metadata": {},
   "outputs": [
    {
     "data": {
      "text/plain": [
       "Fraction(7195266307094947, 144115188075855872)"
      ]
     },
     "execution_count": 87,
     "metadata": {},
     "output_type": "execute_result"
    }
   ],
   "source": [
    "Fraction((6*5*4)*(8*7)*(9)/(factorial(3)*factorial(2))/len(U6))"
   ]
  },
  {
   "cell_type": "markdown",
   "metadata": {
    "button": false,
    "new_sheet": false,
    "run_control": {
     "read_only": false
    }
   },
   "source": [
    "### Pillbox Problem 3: What is the probability of the non-lethal cocktail of exactly 4 Coumadin pills?\n",
    "\n",
    "Use a python set comprehension, then evaluate a probability using the `p` function.\n",
    "\n",
    "Then verify that it's the number of ways to choose 4 out of the 8 Coumadin pills and 2 out of the 15 non-Coumadin pills by leveraging the `choose` function.\n"
   ]
  },
  {
   "cell_type": "code",
   "execution_count": 88,
   "metadata": {
    "button": false,
    "new_sheet": false,
    "run_control": {
     "read_only": false
    }
   },
   "outputs": [
    {
     "data": {
      "text/plain": [
       "Fraction(350, 4807)"
      ]
     },
     "execution_count": 88,
     "metadata": {},
     "output_type": "execute_result"
    }
   ],
   "source": [
    "c4 = {c for c in U6 if c.count('C') == 4}\n",
    "p(c4, U6)"
   ]
  },
  {
   "cell_type": "code",
   "execution_count": 89,
   "metadata": {},
   "outputs": [
    {
     "data": {
      "text/plain": [
       "7350"
      ]
     },
     "execution_count": 89,
     "metadata": {},
     "output_type": "execute_result"
    }
   ],
   "source": [
    "choose(8,4)*choose(15,2)"
   ]
  },
  {
   "cell_type": "code",
   "execution_count": 90,
   "metadata": {},
   "outputs": [
    {
     "data": {
      "text/plain": [
       "Fraction(5246548348923399, 72057594037927936)"
      ]
     },
     "execution_count": 90,
     "metadata": {},
     "output_type": "execute_result"
    }
   ],
   "source": [
    "Fraction(7350/100947)"
   ]
  },
  {
   "cell_type": "code",
   "execution_count": null,
   "metadata": {},
   "outputs": [],
   "source": []
  }
 ],
 "metadata": {
  "kernelspec": {
   "display_name": "Python 3",
   "language": "python",
   "name": "python3"
  },
  "language_info": {
   "codemirror_mode": {
    "name": "ipython",
    "version": 3
   },
   "file_extension": ".py",
   "mimetype": "text/x-python",
   "name": "python",
   "nbconvert_exporter": "python",
   "pygments_lexer": "ipython3",
   "version": "3.6.3"
  }
 },
 "nbformat": 4,
 "nbformat_minor": 2
}
